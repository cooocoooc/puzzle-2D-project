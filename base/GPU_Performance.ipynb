{
 "cells": [
  {
   "cell_type": "markdown",
   "id": "f83b7fb4-21c2-4c17-8cf9-5444d80b98a2",
   "metadata": {},
   "source": [
    "GPU Performance Analysis Tools"
   ]
  },
  {
   "cell_type": "code",
   "execution_count": null,
   "id": "454264ac-7f9a-4f78-a94b-8001957e58a2",
   "metadata": {},
   "outputs": [],
   "source": []
  }
 ],
 "metadata": {
  "kernelspec": {
   "display_name": "Python 3 (ipykernel)",
   "language": "python",
   "name": "python3"
  },
  "language_info": {
   "codemirror_mode": {
    "name": "ipython",
    "version": 3
   },
   "file_extension": ".py",
   "mimetype": "text/x-python",
   "name": "python",
   "nbconvert_exporter": "python",
   "pygments_lexer": "ipython3",
   "version": "3.12.4"
  }
 },
 "nbformat": 4,
 "nbformat_minor": 5
}
