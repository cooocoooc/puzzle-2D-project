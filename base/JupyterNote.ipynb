{
 "cells": [
  {
   "cell_type": "markdown",
   "id": "bd96fc92-324b-4c7f-a964-517b25ab2eb8",
   "metadata": {},
   "source": [
    "Jupyter Note Learning"
   ]
  },
  {
   "cell_type": "code",
   "execution_count": null,
   "id": "a591796f-cf01-4076-b3a0-7c63e7514618",
   "metadata": {},
   "outputs": [],
   "source": []
  }
 ],
 "metadata": {
  "kernelspec": {
   "display_name": "Python 3 (ipykernel)",
   "language": "python",
   "name": "python3"
  },
  "language_info": {
   "codemirror_mode": {
    "name": "ipython",
    "version": 3
   },
   "file_extension": ".py",
   "mimetype": "text/x-python",
   "name": "python",
   "nbconvert_exporter": "python",
   "pygments_lexer": "ipython3",
   "version": "3.12.4"
  }
 },
 "nbformat": 4,
 "nbformat_minor": 5
}
