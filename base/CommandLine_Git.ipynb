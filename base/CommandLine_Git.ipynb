{
 "cells": [
  {
   "cell_type": "markdown",
   "id": "cc5528f2-1c37-4df8-87dd-24e3aebfb5c8",
   "metadata": {},
   "source": [
    "Git Learning"
   ]
  },
  {
   "cell_type": "code",
   "execution_count": null,
   "id": "3a41995f-6b84-4be4-9bc9-40b868ee711c",
   "metadata": {},
   "outputs": [],
   "source": []
  }
 ],
 "metadata": {
  "kernelspec": {
   "display_name": "Python 3 (ipykernel)",
   "language": "python",
   "name": "python3"
  },
  "language_info": {
   "codemirror_mode": {
    "name": "ipython",
    "version": 3
   },
   "file_extension": ".py",
   "mimetype": "text/x-python",
   "name": "python",
   "nbconvert_exporter": "python",
   "pygments_lexer": "ipython3",
   "version": "3.12.4"
  }
 },
 "nbformat": 4,
 "nbformat_minor": 5
}
