{
 "cells": [
  {
   "cell_type": "markdown",
   "id": "b5955214-10a9-498e-99d6-fe16e3d0ba49",
   "metadata": {},
   "source": [
    "Math Function"
   ]
  },
  {
   "cell_type": "code",
   "execution_count": null,
   "id": "d4cc4a32-031e-4d30-a2d6-bd9f7992b187",
   "metadata": {},
   "outputs": [],
   "source": []
  }
 ],
 "metadata": {
  "kernelspec": {
   "display_name": "Python 3 (ipykernel)",
   "language": "python",
   "name": "python3"
  },
  "language_info": {
   "codemirror_mode": {
    "name": "ipython",
    "version": 3
   },
   "file_extension": ".py",
   "mimetype": "text/x-python",
   "name": "python",
   "nbconvert_exporter": "python",
   "pygments_lexer": "ipython3",
   "version": "3.12.4"
  }
 },
 "nbformat": 4,
 "nbformat_minor": 5
}
