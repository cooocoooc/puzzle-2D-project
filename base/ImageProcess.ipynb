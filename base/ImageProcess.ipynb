{
 "cells": [
  {
   "cell_type": "markdown",
   "id": "acd98034-47e6-4e37-a456-a7e20e78ab92",
   "metadata": {},
   "source": [
    "Image Process Functions"
   ]
  },
  {
   "cell_type": "code",
   "execution_count": null,
   "id": "c09c6a22-9f15-4b22-b651-e39e1807873e",
   "metadata": {},
   "outputs": [],
   "source": []
  }
 ],
 "metadata": {
  "kernelspec": {
   "display_name": "Python 3 (ipykernel)",
   "language": "python",
   "name": "python3"
  },
  "language_info": {
   "codemirror_mode": {
    "name": "ipython",
    "version": 3
   },
   "file_extension": ".py",
   "mimetype": "text/x-python",
   "name": "python",
   "nbconvert_exporter": "python",
   "pygments_lexer": "ipython3",
   "version": "3.12.4"
  }
 },
 "nbformat": 4,
 "nbformat_minor": 5
}
