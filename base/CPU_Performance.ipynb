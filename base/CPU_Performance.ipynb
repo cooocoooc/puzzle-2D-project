{
 "cells": [
  {
   "cell_type": "markdown",
   "id": "6e81aa35-7ccc-4427-a60f-b28ff988c2e9",
   "metadata": {},
   "source": [
    "CPU Performance Analysis Tools"
   ]
  },
  {
   "cell_type": "code",
   "execution_count": null,
   "id": "990c9d7d-381e-4b7e-8239-d649f898aa01",
   "metadata": {},
   "outputs": [],
   "source": []
  }
 ],
 "metadata": {
  "kernelspec": {
   "display_name": "Python 3 (ipykernel)",
   "language": "python",
   "name": "python3"
  },
  "language_info": {
   "codemirror_mode": {
    "name": "ipython",
    "version": 3
   },
   "file_extension": ".py",
   "mimetype": "text/x-python",
   "name": "python",
   "nbconvert_exporter": "python",
   "pygments_lexer": "ipython3",
   "version": "3.12.4"
  }
 },
 "nbformat": 4,
 "nbformat_minor": 5
}
