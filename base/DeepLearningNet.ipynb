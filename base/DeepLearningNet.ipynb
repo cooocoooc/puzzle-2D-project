{
 "cells": [
  {
   "cell_type": "markdown",
   "id": "b5955214-10a9-498e-99d6-fe16e3d0ba49",
   "metadata": {},
   "source": [
    "Deep Learning Net Function"
   ]
  },
  {
   "cell_type": "code",
   "execution_count": null,
   "id": "7f8a42d1-4503-4484-a96d-2660f5f294c3",
   "metadata": {},
   "outputs": [],
   "source": []
  }
 ],
 "metadata": {
  "kernelspec": {
   "display_name": "Python 3 (ipykernel)",
   "language": "python",
   "name": "python3"
  },
  "language_info": {
   "codemirror_mode": {
    "name": "ipython",
    "version": 3
   },
   "file_extension": ".py",
   "mimetype": "text/x-python",
   "name": "python",
   "nbconvert_exporter": "python",
   "pygments_lexer": "ipython3",
   "version": "3.12.4"
  }
 },
 "nbformat": 4,
 "nbformat_minor": 5
}
