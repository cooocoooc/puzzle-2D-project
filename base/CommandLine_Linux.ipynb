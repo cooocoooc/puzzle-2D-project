{
 "cells": [
  {
   "cell_type": "markdown",
   "id": "6b9bf715-3723-48a6-ad7a-eb2a0b329715",
   "metadata": {},
   "source": [
    "Commandline Learning"
   ]
  },
  {
   "cell_type": "code",
   "execution_count": null,
   "id": "fe23add6-78b2-4b87-b5f5-6f157378df66",
   "metadata": {},
   "outputs": [],
   "source": []
  }
 ],
 "metadata": {
  "kernelspec": {
   "display_name": "Python 3 (ipykernel)",
   "language": "python",
   "name": "python3"
  },
  "language_info": {
   "codemirror_mode": {
    "name": "ipython",
    "version": 3
   },
   "file_extension": ".py",
   "mimetype": "text/x-python",
   "name": "python",
   "nbconvert_exporter": "python",
   "pygments_lexer": "ipython3",
   "version": "3.12.4"
  }
 },
 "nbformat": 4,
 "nbformat_minor": 5
}
