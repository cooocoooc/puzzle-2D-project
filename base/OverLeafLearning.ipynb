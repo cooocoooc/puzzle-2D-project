{
 "cells": [
  {
   "cell_type": "markdown",
   "id": "b56c6ba1-07c6-42ef-88e6-2ced17dc0337",
   "metadata": {},
   "source": [
    "Overleaf LaTex Learning Note"
   ]
  },
  {
   "cell_type": "code",
   "execution_count": null,
   "id": "954811c4-fa42-4adf-9bf1-9def8a2b9cef",
   "metadata": {},
   "outputs": [],
   "source": []
  }
 ],
 "metadata": {
  "kernelspec": {
   "display_name": "Python 3 (ipykernel)",
   "language": "python",
   "name": "python3"
  },
  "language_info": {
   "codemirror_mode": {
    "name": "ipython",
    "version": 3
   },
   "file_extension": ".py",
   "mimetype": "text/x-python",
   "name": "python",
   "nbconvert_exporter": "python",
   "pygments_lexer": "ipython3",
   "version": "3.12.4"
  }
 },
 "nbformat": 4,
 "nbformat_minor": 5
}
