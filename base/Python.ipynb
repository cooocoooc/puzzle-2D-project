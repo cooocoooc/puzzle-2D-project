{
 "cells": [
  {
   "cell_type": "markdown",
   "id": "d354ba03-238d-4d04-8b19-21a325313f1c",
   "metadata": {},
   "source": [
    "Python Function"
   ]
  },
  {
   "cell_type": "code",
   "execution_count": null,
   "id": "1750114b-4d2d-4da2-a86a-3f46166a434f",
   "metadata": {},
   "outputs": [],
   "source": []
  }
 ],
 "metadata": {
  "kernelspec": {
   "display_name": "Python 3 (ipykernel)",
   "language": "python",
   "name": "python3"
  },
  "language_info": {
   "codemirror_mode": {
    "name": "ipython",
    "version": 3
   },
   "file_extension": ".py",
   "mimetype": "text/x-python",
   "name": "python",
   "nbconvert_exporter": "python",
   "pygments_lexer": "ipython3",
   "version": "3.12.4"
  }
 },
 "nbformat": 4,
 "nbformat_minor": 5
}
